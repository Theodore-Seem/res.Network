{
 "cells": [
  {
   "cell_type": "code",
   "execution_count": 20,
   "metadata": {
    "collapsed": true
   },
   "outputs": [],
   "source": [
    "import numpy as np\n",
    "from matplotlib import *\n",
    "import matplotlib.pyplot as plt"
   ]
  },
  {
   "cell_type": "code",
   "execution_count": 21,
   "metadata": {},
   "outputs": [],
   "source": [
    "def numerical_cubic_bezier_fn(control_pts, t):\n",
    "    \"\"\" \n",
    "    Numerically calculate an x,y point for the bezier curve at position t. \n",
    "\n",
    "    Parameters: control_pts -- list of 4 (x,y) control points\n",
    "                t -- 'time' value should be between 0 and 1\n",
    "\n",
    "    Return: (xpt, ypt) -- tuple of x,y data on the curve\n",
    "    \"\"\"\n",
    "    check = ((0 <= t) and (t <= 1))\n",
    "    assert check\n",
    "    # define the actual cubic bezier equation here\n",
    "    fn = lambda c,t : c[0]*(1 - t)**3 + c[1]*3*t*(1 - t)**2 + c[2]*3*t**2*(1 - t) + c[3]*t**3\n",
    "    xs = [x for x,y in control_pts]\n",
    "    ys = [y for x,y in control_pts]\n",
    "    # now calculate the x,y position from the bezier equation\n",
    "    xpt = fn(xs, t)\n",
    "    ypt = fn(ys, t)\n",
    "    return xpt, ypt"
   ]
  },
  {
   "cell_type": "code",
   "execution_count": 25,
   "metadata": {},
   "outputs": [],
   "source": [
    "p0 = (10,1); p1 = (15,10); p2 = (19,4); p3 = (20,1)\n",
    "# create a list of 1000 x,y points that traces over the length of this curve\n",
    "points = [numerical_cubic_bezier_fn(control_pts=[p0,p1,p2,p3], t=t) for t in np.arange(0.0,1.0,1./1000)]\n",
    "p0 = (1,2); p1 = (4,2); p2 = (6,11); p3 = (10,4)\n",
    "# create a list of 1000 x,y points that traces over the length of this curve\n",
    "point2 = [numerical_cubic_bezier_fn(control_pts=[p0,p1,p2,p3], t=t) for t in np.arange(0.0,1.0,1./1000)]"
   ]
  },
  {
   "cell_type": "code",
   "execution_count": 31,
   "metadata": {},
   "outputs": [],
   "source": [
    "points = points+point2\n",
    "xs = [x for x,y in points]\n",
    "ys = [y for x,y in points]\n",
    "polynomial = np.poly1d(np.polyfit(xs, ys, 2))\n",
    "ys = [polynomial(x) for x in xs]"
   ]
  },
  {
   "cell_type": "code",
   "execution_count": 34,
   "metadata": {},
   "outputs": [
    {
     "data": {
      "image/png": "[encoded data removed]",
      "text/plain": [
       "<matplotlib.figure.Figure at 0x11344ba90>"
      ]
     },
     "metadata": {},
     "output_type": "display_data"
    }
   ],
   "source": [
    "plt.clf()\n",
    "plt.plot(xs, ys, '-b')\n",
    "plt.show()"
   ]
  },
  {
   "cell_type": "code",
   "execution_count": null,
   "metadata": {
    "collapsed": true
   },
   "outputs": [],
   "source": []
  }
 ],
 "metadata": {
  "kernelspec": {
   "display_name": "Python 3",
   "language": "python",
   "name": "python3"
  },
  "language_info": {
   "codemirror_mode": {
    "name": "ipython",
    "version": 3
   },
   "file_extension": ".py",
   "mimetype": "text/x-python",
   "name": "python",
   "nbconvert_exporter": "python",
   "pygments_lexer": "ipython3",
   "version": "3.6.3"
  }
 },
 "nbformat": 4,
 "nbformat_minor": 2
}
